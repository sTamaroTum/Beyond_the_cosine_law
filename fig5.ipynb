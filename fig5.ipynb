{
 "cells": [
  {
   "cell_type": "markdown",
   "metadata": {},
   "source": [
    "# Normalized thrust and power coefficients as a function of misalignment $\\gamma$, shear $\\kappa$ and pitch $\\theta$"
   ]
  },
  {
   "cell_type": "markdown",
   "metadata": {},
   "source": [
    " This is an interactive version of Figure 5 found in Tamaro et al (in review). If you are not interested in the code, you may skip this first section and simply adjust the parameters in the [Variables](#set_vars) section to your needs. Once you are done, rerun the section to generate the new plot."
   ]
  },
  {
   "cell_type": "markdown",
   "metadata": {},
   "source": [
    "## Code"
   ]
  },
  {
   "cell_type": "code",
   "execution_count": null,
   "metadata": {},
   "outputs": [],
   "source": [
    "import numpy as np\n",
    "from scipy.optimize import fsolve\n",
    "import matplotlib.pyplot as plt  \n",
    "plt.close(\"all\")\n",
    "#%%\n",
    "colors = np.array([[0,0,0],[0.4,0.4,0.4],[0.7,0.7,0.7]])\n",
    "style  = np.array([\"-\",\":\"])"
   ]
  },
  {
   "cell_type": "markdown",
   "metadata": {},
   "source": [
    "Define function to compute $C_T$"
   ]
  },
  {
   "cell_type": "code",
   "execution_count": null,
   "metadata": {},
   "outputs": [],
   "source": [
    "def find_ct(x,*data):\n",
    "    sigma,cd,cl_alfa,gamma,delta,k,cosMu,sinMu,tsr,theta,mu = data\n",
    "    CD = np.cos(np.deg2rad(delta))\n",
    "    CG = np.cos(np.deg2rad(gamma))\n",
    "    SD = np.sin(np.deg2rad(delta))\n",
    "    SG = np.sin(np.deg2rad(gamma))\n",
    "    a = (1- ( (1+np.sqrt(1-x-1/16*x**2*sinMu**2))/(2*(1+1/16*x*sinMu**2))) )    \n",
    "    k_1s = -1*(15*np.pi/32*np.tan((mu+np.sin(mu)*(x/2))/2));\n",
    "    I1 = -(np.pi*cosMu*(tsr - CD*SG*k)*(a - 1) \n",
    "           + (CD*CG*cosMu*k_1s*SD*a*k*np.pi*(2*tsr - CD*SG*k))/(8*sinMu))/(2*np.pi)\n",
    "    I2 = (np.pi*sinMu**2 + (np.pi*(CD**2*CG**2*SD**2*k**2 \n",
    "                                   + 3*CD**2*SG**2*k**2 - 8*CD*tsr*SG*k \n",
    "                                   + 8*tsr**2))/12)/(2*np.pi)\n",
    "    return (sigma*(cd+cl_alfa)*(I1) - sigma*cl_alfa*theta*(I2)) - x"
   ]
  },
  {
   "cell_type": "markdown",
   "metadata": {},
   "source": [
    "Define function to compute $C_P$"
   ]
  },
  {
   "cell_type": "code",
   "execution_count": null,
   "metadata": {},
   "outputs": [],
   "source": [
    "def find_cp(sigma,cd,cl_alfa,gamma,delta,k,cosMu,sinMu,tsr,theta,ct,mu):\n",
    "    a = 1-((1+np.sqrt(1-ct-1/16*sinMu**2*ct**2))/(2*(1+1/16*ct*sinMu**2)))\n",
    "    SG = np.sin(np.deg2rad(gamma))\n",
    "    CG = np.cos(np.deg2rad(gamma))                \n",
    "    SD = np.sin(np.deg2rad(delta))  \n",
    "    CD = np.cos(np.deg2rad(delta))  \n",
    "    k_1s = -1*(15*np.pi/32*np.tan((mu+np.sin(mu)*(ct/2))/2));\n",
    "    \n",
    "    cp = sigma*((np.pi*cosMu**2*tsr*cl_alfa*(a - 1)**2 \n",
    "                 - (tsr*cd*np.pi*(CD**2*CG**2*SD**2*k**2 + 3*CD**2*SG**2*k**2 - 8*CD*tsr*SG*k + 8*tsr**2))/16 \n",
    "                 - (np.pi*tsr*sinMu**2*cd)/2 - (2*np.pi*cosMu*tsr**2*cl_alfa*theta)/3 \n",
    "                 + (np.pi*cosMu**2*k_1s**2*tsr*a**2*cl_alfa)/4 \n",
    "                 + (2*np.pi*cosMu*tsr**2*a*cl_alfa*theta)/3 + (2*np.pi*CD*cosMu*tsr*SG*cl_alfa*k*theta)/3 \n",
    "                 + (CD**2*cosMu**2*tsr*cl_alfa*k**2*np.pi*(a - 1)**2*(CG**2*SD**2 + SG**2))/(4*sinMu**2) \n",
    "                 - (2*np.pi*CD*cosMu*tsr*SG*a*cl_alfa*k*theta)/3 \n",
    "                 + (CD**2*cosMu**2*k_1s**2*tsr*a**2*cl_alfa*k**2*np.pi*(3*CG**2*SD**2 + SG**2))/(24*sinMu**2) \n",
    "                 - (np.pi*CD*CG*cosMu**2*k_1s*tsr*SD*a*cl_alfa*k)/sinMu \n",
    "                 + (np.pi*CD*CG*cosMu**2*k_1s*tsr*SD*a**2*cl_alfa*k)/sinMu \n",
    "                 + (np.pi*CD*CG*cosMu*k_1s*tsr**2*SD*a*cl_alfa*k*theta)/(5*sinMu) \n",
    "                 - (np.pi*CD**2*CG*cosMu*k_1s*tsr*SD*SG*a*cl_alfa*k**2*theta)/(10*sinMu))/(2*np.pi))\n",
    "    \n",
    "    return cp"
   ]
  },
  {
   "cell_type": "markdown",
   "metadata": {},
   "source": [
    "Define a function to solve for $C_T$ and return the plot"
   ]
  },
  {
   "cell_type": "code",
   "execution_count": null,
   "metadata": {},
   "outputs": [],
   "source": [
    "def solve_and_plot(sigma, cd, c_l_alpha, beta, gamma_array, delta, tsr, theta_arr, k_arr):\n",
    "    x0   = 0.6\n",
    "    idx0 = np.where(gamma_array==0)\n",
    "    c     = 0                                        # counter\n",
    "    min_y_cp = 1\n",
    "    min_y_ct = 1\n",
    "    plt.figure(figsize=(7, 3.0), dpi=120)\n",
    "    for k in k_arr:\n",
    "        cc = 0\n",
    "        for theta_p in theta_arr:\n",
    "            ct_array    = np.zeros(np.size(gamma_array))\n",
    "            cp_array    = np.zeros(np.size(gamma_array))\n",
    "            theta = theta_p + np.deg2rad(beta)\n",
    "            ccc  = 0\n",
    "            for gamma in gamma_array:\n",
    "              # define total misalignment angle mu               \n",
    "              mu = np.arccos(np.cos(np.deg2rad(gamma))*np.cos(np.deg2rad(delta)))\n",
    "              data = (sigma,cd,c_l_alpha,gamma,delta,k,np.cos(mu),np.sin(mu),tsr,theta,mu)\n",
    "              ct = fsolve(find_ct, x0,args=data)\n",
    "              ct_array[ccc] = ct[0]\n",
    "              # get C_P\n",
    "              cp = find_cp(sigma,cd,c_l_alpha,gamma,delta,k,np.cos(mu),np.sin(mu),tsr,theta,ct_array[ccc],mu)\n",
    "              cp_array[ccc] = cp\n",
    "              ccc += 1\n",
    "            plt.subplot(1,2,1)\n",
    "            if c == 0:\n",
    "                plt.plot(gamma_array,ct_array/ct_array[idx0],color=colors[cc,:],linestyle=style[c],label=r'$\\theta_p=$' + str(np.round(np.rad2deg(theta_p),1)) + '$^\\circ$')\n",
    "            else:\n",
    "                plt.plot(gamma_array,ct_array/ct_array[idx0],color=colors[cc,:],linestyle=style[c])       \n",
    "            if np.min(ct_array/ct_array[idx0]) < min_y_ct:\n",
    "                min_y_ct = np.min(ct_array/ct_array[idx0])\n",
    "            plt.subplot(1,2,2)\n",
    "            if cc == 0:\n",
    "                plt.plot(gamma_array,cp_array/cp_array[idx0],color=colors[cc,:],linestyle=style[c],label=r'$k=$' + str(k))\n",
    "            else:\n",
    "                plt.plot(gamma_array,cp_array/cp_array[idx0],color=colors[cc,:],linestyle=style[c])       \n",
    "            if np.min(cp_array/cp_array[idx0]) < min_y_cp:\n",
    "                min_y_cp = np.min(cp_array/cp_array[idx0])\n",
    "                \n",
    "            cc += 1\n",
    "        c += 1\n",
    "    #%% Plot\n",
    "    plt.subplot(1,2,1)\n",
    "    plt.ylabel('$C_T/C_{T,0}$ $[-]$',fontsize=14)\n",
    "    plt.legend(ncol=len(theta_arr),handlelength=1,columnspacing=0.5,frameon=False,bbox_to_anchor = (2,1.35),fontsize=14)\n",
    "    plt.ylim([np.floor(min_y_ct*10)/10,1.01])\n",
    "    plt.yticks(np.arange(np.floor(min_y_ct*10)/10,1.01,0.1),fontsize=14)\n",
    "    plt.subplot(1,2,2)    \n",
    "    plt.ylabel('$C_P/C_{P,0}$ $[-]$',fontsize=14)\n",
    "    plt.legend(ncol=1,handlelength=1,columnspacing=0.5,frameon=True,fontsize=14)\n",
    "    plt.ylim([np.floor(min_y_cp*10)/10,1.01])\n",
    "    plt.yticks(np.arange(np.floor(min_y_cp*10)/10,1.01,0.1),fontsize=14)\n",
    "\n",
    "    # letters = np.array([\"(a)\",\"(b)\"])\n",
    "    for i in np.arange(2):\n",
    "        plt.subplot(1,2,i+1)\n",
    "        plt.xlabel('$\\gamma$ [$^\\circ$]',fontsize=14)\n",
    "        plt.xlim([gamma_array[0],gamma_array[-1]])\n",
    "        plt.xticks(np.round(np.arange(gamma_array[0],gamma_array[-1]+0.1,10),1),fontsize=14)\n",
    "        plt.grid()\n",
    "        # plt.text(23.7,0.96,letters[i],fontsize=14)\n",
    "    plt.subplots_adjust(left=0.12, bottom=0.25, right=0.95, top=0.8, wspace=0.4, hspace=0.3)"
   ]
  },
  {
   "cell_type": "markdown",
   "metadata": {},
   "source": [
    "<a id='set_vars'></a>\n",
    "Define variables, solve for $C_t$ and return the plot <br>\n",
    "You may set the variables and rerun the cells below by selecting run in the menu above."
   ]
  },
  {
   "cell_type": "code",
   "execution_count": null,
   "metadata": {},
   "outputs": [],
   "source": [
    "sigma           = 0.0416                        # rotor solidity        [-]\n",
    "cd              = 0.004                         # drag coefficient      [-]\n",
    "c_l_alpha       = 4.796                         # lift slope            [1/rad]\n",
    "beta            = -3.177                        # blade twist angle     [deg]\n",
    "gamma_array     = np.linspace(-30,30,61)        # rotor yaw angle       [deg]\n",
    "delta           = -5                            # rotor tilt angle      [deg]\n",
    "tsr             = 8                             # tip speed ratio       [-]\n",
    "theta_arr       = np.deg2rad(np.array([1,6,9])) # blade pitch angle     [deg]\n",
    "k_arr           = np.array([0, 0.3])            # inflow shear (linear) [-]\n",
    "solve_and_plot(sigma, cd, c_l_alpha, beta, gamma_array, delta, tsr, theta_arr, k_arr)"
   ]
  }
 ],
 "metadata": {
  "kernelspec": {
   "display_name": "Python 3 (ipykernel)",
   "language": "python",
   "name": "python3"
  },
  "language_info": {
   "codemirror_mode": {
    "name": "ipython",
    "version": 3
   },
   "file_extension": ".py",
   "mimetype": "text/x-python",
   "name": "python",
   "nbconvert_exporter": "python",
   "pygments_lexer": "ipython3",
   "version": "3.10.12"
  }
 },
 "nbformat": 4,
 "nbformat_minor": 4
}
